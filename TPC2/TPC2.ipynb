{
 "cells": [
  {
   "cell_type": "code",
   "execution_count": 22,
   "metadata": {},
   "outputs": [
    {
     "name": "stdout",
     "output_type": "stream",
     "text": [
      "0\n",
      "50\n",
      "O meu número é maior\n",
      "75\n",
      "O meu número é maior\n",
      "87\n",
      "O meu número é menor\n",
      "81\n",
      "O meu número é menor\n",
      "78\n",
      "O meu número é maior\n",
      "79\n",
      "O meu número é maior\n",
      "80\n",
      "Acertou em 8 tentativas\n"
     ]
    }
   ],
   "source": [
    "import random\n",
    "\n",
    "guesser=int(input(\"Quem vai adivinhar?(0-computador,1-eu)\"))\n",
    "\n",
    "if guesser==1:\n",
    "    num=int(random.randint(0,100))\n",
    "    guess=int(input(\"O meu número é...\"))\n",
    "    tries=0\n",
    "    while num!=guess:\n",
    "        if guess<num:\n",
    "            print(\"O meu número é maior.\")\n",
    "            tries=tries+1\n",
    "            guess=int(input(\"Tente novamente.\"))\n",
    "        elif guess>num:\n",
    "            print(\"O meu número é menor.\")\n",
    "            tries=tries+1\n",
    "            guess=int(input(\"Tente novamente\"))\n",
    "    print(\"Acertou em\", tries+1, \"tentativas.\")\n",
    "elif guesser==0:\n",
    "    num=int(input(\"O meu número é...\"))\n",
    "    upper=100\n",
    "    lower=0\n",
    "    guess=0\n",
    "    tries=0\n",
    "    while num!=guess:\n",
    "        guess=int((lower+upper)/2)\n",
    "        print(guess)\n",
    "        if guess>num:\n",
    "            upper=guess\n",
    "            tries=tries+1\n",
    "        elif guess<num:\n",
    "            lower=guess\n",
    "            tries=tries+1\n",
    "        else:\n",
    "            tries=tries+1\n",
    "    print(\"Acertou em\", tries+1, \"tentativas.\")"
   ]
  }
 ],
 "metadata": {
  "kernelspec": {
   "display_name": "Python 3.10.7 64-bit",
   "language": "python",
   "name": "python3"
  },
  "language_info": {
   "codemirror_mode": {
    "name": "ipython",
    "version": 3
   },
   "file_extension": ".py",
   "mimetype": "text/x-python",
   "name": "python",
   "nbconvert_exporter": "python",
   "pygments_lexer": "ipython3",
   "version": "3.10.7"
  },
  "orig_nbformat": 4,
  "vscode": {
   "interpreter": {
    "hash": "2469a70536e4d2335a2ea8907942d0699c37342a371ac185bdb5b0aa6f073890"
   }
  }
 },
 "nbformat": 4,
 "nbformat_minor": 2
}
