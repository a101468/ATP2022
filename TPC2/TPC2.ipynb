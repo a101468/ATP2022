{
 "cells": [
  {
   "cell_type": "code",
   "execution_count": null,
   "metadata": {},
   "outputs": [],
   "source": [
    "import random\n",
    "\n",
    "guesser=int(input(\"Quem vai adivinhar?(0-computador,1-eu)\"))\n",
    "\n",
    "if guesser==1:\n",
    "    num=int(random.randint(0,100))\n",
    "    guess=int(input(\"O meu número é?\"))\n",
    "    tries=0\n",
    "    while num!=guess:\n",
    "        if guess<num:\n",
    "            print(\"O meu número é maior\")\n",
    "            tries=tries+1\n",
    "            guess=int(input(\"Tente novamente\"))\n",
    "        elif guess>num:\n",
    "            print(\"O meu número é menor\")\n",
    "            tries=tries+1\n",
    "            guess=int(input(\"Tente novamente\"))\n",
    "    print(\"Acertou em\", tries+1, \"tentativas\")\n",
    "elif guesser==0:\n",
    "    num=int(input(\"O meu número é\"))\n",
    "    guess=int(random.randint(0,100))\n",
    "    tries=0\n",
    "    while num!=guess:\n",
    "        if guess<num:\n",
    "            print(guess)\n",
    "            print(\"O meu número é maior\")\n",
    "            tries=tries+1\n",
    "            guess=int(random.randint(0,100))\n",
    "        elif guess>num:\n",
    "            print(guess)\n",
    "            print(\"O meu número é menor\")\n",
    "            tries=tries+1\n",
    "            guess=int(random.randint(0,100))\n",
    "    print(\"Acertou em\", tries+1, \"tentativas\")"
   ]
  }
 ],
 "metadata": {
  "language_info": {
   "name": "python"
  },
  "orig_nbformat": 4
 },
 "nbformat": 4,
 "nbformat_minor": 2
}
