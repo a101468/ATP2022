{
 "cells": [
  {
   "cell_type": "code",
   "execution_count": null,
   "metadata": {},
   "outputs": [],
   "source": [
    "import TPC7 as md\n",
    "\n",
    "\n",
    "md.menu()\n",
    "function = int(input(\"O que pretende fazer?\"))\n",
    "\n",
    "while function != 0:\n",
    "    if function == 1:\n",
    "        md.menu()\n",
    "    if function == 2:\n",
    "        print(\"A lista de alunos é:\\n\")\n",
    "        print(md.lerAlunos(\"..\\..\\datasets\\_alunos.csv\"))\n",
    "    if function == 3:\n",
    "        print(\"Tabela de alunos e respetiva média:\\n\")\n",
    "        lista = md.mediaTPC(md.lerAlunos(\"..\\..\\datasets\\_alunos.csv\"))\n",
    "        for aluno in lista:\n",
    "            nome = aluno[\"nome\"]\n",
    "            media = aluno[\"media\"]\n",
    "            print(f\"{nome:^30}|{media:<5}\")\n",
    "    if function == 4:\n",
    "        print(\"Tabela de alunos e respetivo escalão e média:\\n\")\n",
    "        lista = md.gradeTPC(md.mediaTPC(md.lerAlunos(\"..\\..\\datasets\\_alunos.csv\")))\n",
    "        for aluno in lista:\n",
    "            nome = aluno[\"nome\"]\n",
    "            media = aluno[\"media\"]\n",
    "            grade = aluno[\"escalao\"]\n",
    "            print(f\"{nome:^30}|{media:^9}|{grade:<1}\")\n",
    "    if function == 5:\n",
    "        md.submenuDistrib()\n",
    "        subfunction = int(input(\"Que distribuição pretende ver?\"))\n",
    "        while subfunction != 0:\n",
    "            if subfunction == 1:\n",
    "                md.submenuDistrib()\n",
    "            if subfunction == 2:\n",
    "                print(\"Tabela da distribuição dos alunos por curso:\\n\")\n",
    "                md.pp(md.distribCurso(md.lerAlunos(\"..\\..\\datasets\\_alunos.csv\")))\n",
    "            if subfunction == 3:\n",
    "                print(\"Tabela da distribuição dos alunos por escalão:\\n\")\n",
    "                md.pp(md.distribEscalao(md.gradeTPC(md.mediaTPC(md.lerAlunos(\"..\\..\\datasets\\_alunos.csv\")))))\n",
    "            subfunction = int(input(\"Que distribuição pretende ver agora?\"))\n",
    "    if function == 6:\n",
    "        md.submenuGraph()\n",
    "        subfunction = int(input(\"Que gráfico pretende ver?\"))\n",
    "        while subfunction != 0:\n",
    "            if subfunction == 1:\n",
    "                md.submenuGraph()\n",
    "            if subfunction == 2:\n",
    "                md.graph(md.distribCurso(md.lerAlunos(\"..\\..\\datasets\\_alunos.csv\")))\n",
    "            if subfunction == 3:\n",
    "                md.graph(md.distribEscalao(md.gradeTPC(md.mediaTPC(md.lerAlunos(\"..\\..\\datasets\\_alunos.csv\")))))\n",
    "            subfunction = int(input(\"Que gráfico pretende ver?\"))\n",
    "\n",
    "    function = int(input(\"O que pretende fazer agora?\"))"
   ]
  }
 ],
 "metadata": {
  "kernelspec": {
   "display_name": "Python 3.10.7 64-bit",
   "language": "python",
   "name": "python3"
  },
  "language_info": {
   "codemirror_mode": {
    "name": "ipython",
    "version": 3
   },
   "file_extension": ".py",
   "mimetype": "text/x-python",
   "name": "python",
   "nbconvert_exporter": "python",
   "pygments_lexer": "ipython3",
   "version": "3.10.7"
  },
  "orig_nbformat": 4,
  "vscode": {
   "interpreter": {
    "hash": "2469a70536e4d2335a2ea8907942d0699c37342a371ac185bdb5b0aa6f073890"
   }
  }
 },
 "nbformat": 4,
 "nbformat_minor": 2
}
